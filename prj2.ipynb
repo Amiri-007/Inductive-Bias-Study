{
 "cells": [
  {
   "cell_type": "code",
   "execution_count": null,
   "id": "0e30ec57",
   "metadata": {},
   "outputs": [],
   "source": [
    "import torch\n",
    "import torch.nn as nn\n",
    "from torch.utils.data import DataLoader\n",
    "from torchvision import datasets, transforms\n",
    "from tqdm import tqdm\n",
    "\n",
    "# Device configuration (GPU if available)\n",
    "device = torch.device('cuda:0' if torch.cuda.is_available() else 'cpu')\n",
    "\n",
    "# Hyperparameters and settings\n",
    "num_epochs = 30\n",
    "batch_size = 128\n",
    "learning_rate = 1e-3\n",
    "snapshot_interval = 100  # save embedding every 100 iterations"
   ]
  },
  {
   "cell_type": "code",
   "execution_count": null,
   "id": "565c7a86",
   "metadata": {},
   "outputs": [],
   "source": [
    "from sklearn.metrics import f1_score, roc_auc_score\n",
    "from sklearn.preprocessing import label_binarize\n",
    "import numpy as np\n",
    "import torch.nn.functional as F\n",
    "\n",
    "def evaluate(model, loader):\n",
    "    \"\"\"\n",
    "    Return tuple:\n",
    "        (avg_loss, accuracy, macro_f1, macro_auroc)\n",
    "    Works for multi-class (10 classes). Uses OVR AUROC.\n",
    "    \"\"\"\n",
    "    model.eval()\n",
    "    tot, correct, loss_sum = 0, 0, 0.0\n",
    "    all_labels, all_preds, all_probs = [], [], []\n",
    "\n",
    "    with torch.no_grad():\n",
    "        for x, y in loader:\n",
    "            x, y = x.to(device), y.to(device)\n",
    "            logits = model(x)\n",
    "            loss_sum += criterion(logits, y).item() * y.size(0)\n",
    "\n",
    "            probs = F.softmax(logits, dim=1) # (B, 10)\n",
    "            preds = probs.argmax(1)\n",
    "\n",
    "            tot     += y.size(0)\n",
    "            correct += (preds == y).sum().item()\n",
    "\n",
    "            all_labels.append(y.cpu())\n",
    "            all_preds.append(preds.cpu())\n",
    "            all_probs.append(probs.cpu())\n",
    "\n",
    "    # concat everything\n",
    "    labels = torch.cat(all_labels).numpy() # (N,)\n",
    "    preds  = torch.cat(all_preds).numpy() # (N,)\n",
    "    probs  = torch.cat(all_probs).numpy() # (N, 10)\n",
    "\n",
    "    avg_loss = loss_sum / tot\n",
    "    acc = correct / tot\n",
    "    macro_f1 = f1_score(labels, preds, average='macro')\n",
    "\n",
    "    # one-hot labels for AUROC\n",
    "    labels_bin = label_binarize(labels, classes=np.arange(10))\n",
    "    macro_auc  = roc_auc_score(labels_bin, probs, multi_class='ovr', average='macro')\n",
    "\n",
    "    return avg_loss, acc, macro_f1, macro_auc"
   ]
  },
  {
   "cell_type": "code",
   "execution_count": 3,
   "id": "86852a53",
   "metadata": {},
   "outputs": [],
   "source": [
    "# MNIST data loaders\n",
    "transform = transforms.Compose([transforms.ToTensor()])\n",
    "train_data = datasets.MNIST(root='./data', train=True, download=True, transform=transform)\n",
    "test_data  = datasets.MNIST(root='./data', train=False, download=True, transform=transform)\n",
    "train_loader = DataLoader(train_data, batch_size=batch_size, shuffle=True)\n",
    "test_loader  = DataLoader(test_data, batch_size=batch_size, shuffle=False)"
   ]
  },
  {
   "cell_type": "code",
   "execution_count": null,
   "id": "5159fed8",
   "metadata": {},
   "outputs": [],
   "source": [
    "# Define the LeNet-style CNN with 2D embedding\n",
    "class LeNet2D(nn.Module):\n",
    "    def __init__(self):\n",
    "        super(LeNet2D, self).__init__()\n",
    "        # Convolutional feature extractor\n",
    "        self.conv1 = nn.Conv2d(1, 6, kernel_size=5)   # 28x28 -> 24x24 (6 feature maps)\n",
    "        self.pool  = nn.MaxPool2d(2)                 # 24x24 -> 12x12 (downsample)\n",
    "        self.conv2 = nn.Conv2d(6, 16, kernel_size=5)  # 12x12 -> 8x8 (16 feature maps)\n",
    "        # After second pool: 8x8 -> 4x4\n",
    "        # Flattened feature vector length = 16*4*4 = 256\n",
    "        self.fc1 = nn.Linear(16*4*4, 64)   # a hidden fully-connected layer\n",
    "        self.fc2 = nn.Linear(64, 2)        # 2D embedding layer\n",
    "        self.fc3 = nn.Linear(2, 10)        # output layer (10 classes)\n",
    "    def forward(self, x, return_embedding=False):\n",
    "        x = torch.relu(self.conv1(x)) # apply Conv1 + ReLU\n",
    "        x = self.pool(x)              # downsample\n",
    "        x = torch.relu(self.conv2(x)) # Conv2 + ReLU\n",
    "        x = self.pool(x)              # downsample again\n",
    "        x = x.view(x.size(0), -1)     # flatten (B, 256)\n",
    "        x = torch.relu(self.fc1(x))   # dense + ReLU\n",
    "        embed = self.fc2(x)           # 2D embedding (no activation to allow negative coords)\n",
    "        out = self.fc3(embed)         # class scores\n",
    "        if return_embedding:\n",
    "            return embed, out\n",
    "        else:\n",
    "            return out"
   ]
  },
  {
   "cell_type": "code",
   "execution_count": null,
   "id": "73c30f3a",
   "metadata": {},
   "outputs": [],
   "source": [
    "class FCNN2D(nn.Module):\n",
    "    \"\"\"\n",
    "    • 28×28 MNIST flattened to 784.\n",
    "    • Hidden dims chosen so total params ≈19 k (same as LeNet2D).\n",
    "    \"\"\"\n",
    "    def __init__(self):\n",
    "        super().__init__()\n",
    "        self.fc1 = nn.Linear(28*28, 24)   # 784 -> 24\n",
    "        self.ln1 = nn.LayerNorm(24)       # normalise\n",
    "        self.fc2 = nn.Linear(24, 16)      # 24 -> 16\n",
    "        self.ln2 = nn.LayerNorm(16)\n",
    "        self.fc_embed = nn.Linear(16, 2)  # 16 -> 2  (latent)\n",
    "        self.fc_out   = nn.Linear(2, 10)  # 2  -> 10 (logits)\n",
    "\n",
    "    def forward(self, x, return_embedding=False):\n",
    "        x = x.view(x.size(0), -1) # flatten to (B,784)\n",
    "        x = torch.relu(self.ln1(self.fc1(x))) \n",
    "        x = torch.relu(self.ln2(self.fc2(x)))\n",
    "        embed = self.fc_embed(x) # (B,2)\n",
    "        out   = self.fc_out(embed) # (B,10)\n",
    "        if return_embedding:\n",
    "            return embed, out\n",
    "        return out"
   ]
  },
  {
   "cell_type": "code",
   "execution_count": null,
   "id": "96c47822",
   "metadata": {},
   "outputs": [],
   "source": [
    "# Instantiate models\n",
    "cnn_model = LeNet2D().to(device)\n",
    "fcnn_model = FCNN2D().to(device)\n",
    "\n",
    "# Optimizers and loss function\n",
    "criterion = nn.CrossEntropyLoss()\n",
    "optimizer_cnn = torch.optim.Adam(cnn_model.parameters(), lr=learning_rate)\n",
    "optimizer_fc = torch.optim.Adam(fcnn_model.parameters(), lr=learning_rate)"
   ]
  },
  {
   "cell_type": "code",
   "execution_count": null,
   "id": "ffdad832",
   "metadata": {},
   "outputs": [],
   "source": [
    "# Helper function to compute embeddings for all data in a loader\n",
    "def compute_embeddings(model, data_loader):\n",
    "    \"\"\"\n",
    "    Helper that extracts the 2D latent codes for all samples in data_loader (train or test).\n",
    "    Returns two NumPy arrays: embeds shape (𝑁,2)(N,2) and labels shape (𝑁,)(N,).\n",
    "    \"\"\"\n",
    "    model.eval()\n",
    "    embeds_list, labels_list = [], []\n",
    "    with torch.no_grad(): # Context manager turn off gradient tracking\n",
    "        for images, labels in data_loader: # per mini-batch\n",
    "            images = images.to(device) \n",
    "            emb, _ = model(images, return_embedding=True) # forward pass to get 2D latent emb\n",
    "            embeds_list.append(emb.cpu()) # back to cpu to free GPU RAM\n",
    "            labels_list.append(labels)\n",
    "    # concat the tensors \n",
    "    embeds = torch.cat(embeds_list, dim=0).numpy()   # shape (N, 2)\n",
    "    labels = torch.cat(labels_list, dim=0).numpy()   # shape (N,)\n",
    "    return embeds, labels "
   ]
  },
  {
   "cell_type": "code",
   "execution_count": null,
   "id": "3a2f6ceb",
   "metadata": {},
   "outputs": [
    {
     "name": "stderr",
     "output_type": "stream",
     "text": [
      "                                                               \r"
     ]
    },
    {
     "name": "stdout",
     "output_type": "stream",
     "text": [
      "[CNN] epoch 01 | train loss 0.826 acc 68.5%  ||  test loss 0.803 acc 69.3% F1 0.661  AUROC 0.968\n"
     ]
    },
    {
     "name": "stderr",
     "output_type": "stream",
     "text": [
      "                                                               \r"
     ]
    },
    {
     "name": "stdout",
     "output_type": "stream",
     "text": [
      "[CNN] epoch 02 | train loss 0.498 acc 88.1%  ||  test loss 0.476 acc 88.5% F1 0.885  AUROC 0.989\n"
     ]
    },
    {
     "name": "stderr",
     "output_type": "stream",
     "text": [
      "                                                               \r"
     ]
    },
    {
     "name": "stdout",
     "output_type": "stream",
     "text": [
      "[CNN] epoch 03 | train loss 0.329 acc 92.3%  ||  test loss 0.317 acc 92.9% F1 0.929  AUROC 0.994\n"
     ]
    },
    {
     "name": "stderr",
     "output_type": "stream",
     "text": [
      "                                                               \r"
     ]
    },
    {
     "name": "stdout",
     "output_type": "stream",
     "text": [
      "[CNN] epoch 04 | train loss 0.264 acc 94.0%  ||  test loss 0.259 acc 94.4% F1 0.944  AUROC 0.996\n"
     ]
    },
    {
     "name": "stderr",
     "output_type": "stream",
     "text": [
      "                                                               \r"
     ]
    },
    {
     "name": "stdout",
     "output_type": "stream",
     "text": [
      "[CNN] epoch 05 | train loss 0.229 acc 94.7%  ||  test loss 0.232 acc 94.9% F1 0.949  AUROC 0.996\n"
     ]
    },
    {
     "name": "stderr",
     "output_type": "stream",
     "text": [
      "                                                               \r"
     ]
    },
    {
     "name": "stdout",
     "output_type": "stream",
     "text": [
      "[CNN] epoch 06 | train loss 0.205 acc 95.2%  ||  test loss 0.220 acc 95.0% F1 0.950  AUROC 0.997\n"
     ]
    },
    {
     "name": "stderr",
     "output_type": "stream",
     "text": [
      "                                                               \r"
     ]
    },
    {
     "name": "stdout",
     "output_type": "stream",
     "text": [
      "[CNN] epoch 07 | train loss 0.195 acc 95.2%  ||  test loss 0.211 acc 95.1% F1 0.951  AUROC 0.997\n"
     ]
    },
    {
     "name": "stderr",
     "output_type": "stream",
     "text": [
      "                                                               \r"
     ]
    },
    {
     "name": "stdout",
     "output_type": "stream",
     "text": [
      "[CNN] epoch 08 | train loss 0.165 acc 96.3%  ||  test loss 0.186 acc 96.2% F1 0.962  AUROC 0.998\n"
     ]
    },
    {
     "name": "stderr",
     "output_type": "stream",
     "text": [
      "                                                               \r"
     ]
    },
    {
     "name": "stdout",
     "output_type": "stream",
     "text": [
      "[CNN] epoch 09 | train loss 0.172 acc 96.0%  ||  test loss 0.198 acc 95.5% F1 0.955  AUROC 0.997\n"
     ]
    },
    {
     "name": "stderr",
     "output_type": "stream",
     "text": [
      "                                                                \r"
     ]
    },
    {
     "name": "stdout",
     "output_type": "stream",
     "text": [
      "[CNN] epoch 10 | train loss 0.142 acc 96.5%  ||  test loss 0.177 acc 96.3% F1 0.962  AUROC 0.998\n"
     ]
    },
    {
     "name": "stderr",
     "output_type": "stream",
     "text": [
      "                                                                \r"
     ]
    },
    {
     "name": "stdout",
     "output_type": "stream",
     "text": [
      "[CNN] epoch 11 | train loss 0.133 acc 96.7%  ||  test loss 0.168 acc 96.5% F1 0.964  AUROC 0.998\n"
     ]
    },
    {
     "name": "stderr",
     "output_type": "stream",
     "text": [
      "                                                                \r"
     ]
    },
    {
     "name": "stdout",
     "output_type": "stream",
     "text": [
      "[CNN] epoch 12 | train loss 0.126 acc 96.9%  ||  test loss 0.165 acc 96.6% F1 0.966  AUROC 0.998\n"
     ]
    },
    {
     "name": "stderr",
     "output_type": "stream",
     "text": [
      "                                                                \r"
     ]
    },
    {
     "name": "stdout",
     "output_type": "stream",
     "text": [
      "[CNN] epoch 13 | train loss 0.155 acc 96.6%  ||  test loss 0.206 acc 96.2% F1 0.962  AUROC 0.997\n"
     ]
    },
    {
     "name": "stderr",
     "output_type": "stream",
     "text": [
      "                                                                \r"
     ]
    },
    {
     "name": "stdout",
     "output_type": "stream",
     "text": [
      "[CNN] epoch 14 | train loss 0.111 acc 97.1%  ||  test loss 0.160 acc 96.4% F1 0.964  AUROC 0.998\n"
     ]
    },
    {
     "name": "stderr",
     "output_type": "stream",
     "text": [
      "                                                                \r"
     ]
    },
    {
     "name": "stdout",
     "output_type": "stream",
     "text": [
      "[CNN] epoch 15 | train loss 0.109 acc 97.2%  ||  test loss 0.161 acc 96.5% F1 0.965  AUROC 0.998\n"
     ]
    },
    {
     "name": "stderr",
     "output_type": "stream",
     "text": [
      "                                                                \r"
     ]
    },
    {
     "name": "stdout",
     "output_type": "stream",
     "text": [
      "[CNN] epoch 16 | train loss 0.098 acc 97.4%  ||  test loss 0.156 acc 97.0% F1 0.970  AUROC 0.998\n"
     ]
    },
    {
     "name": "stderr",
     "output_type": "stream",
     "text": [
      "                                                                \r"
     ]
    },
    {
     "name": "stdout",
     "output_type": "stream",
     "text": [
      "[CNN] epoch 17 | train loss 0.089 acc 97.7%  ||  test loss 0.146 acc 96.9% F1 0.969  AUROC 0.998\n"
     ]
    },
    {
     "name": "stderr",
     "output_type": "stream",
     "text": [
      "                                                                \r"
     ]
    },
    {
     "name": "stdout",
     "output_type": "stream",
     "text": [
      "[CNN] epoch 18 | train loss 0.094 acc 97.6%  ||  test loss 0.153 acc 97.2% F1 0.972  AUROC 0.998\n"
     ]
    },
    {
     "name": "stderr",
     "output_type": "stream",
     "text": [
      "                                                                \r"
     ]
    },
    {
     "name": "stdout",
     "output_type": "stream",
     "text": [
      "[CNN] epoch 19 | train loss 0.086 acc 97.7%  ||  test loss 0.133 acc 97.2% F1 0.972  AUROC 0.999\n"
     ]
    },
    {
     "name": "stderr",
     "output_type": "stream",
     "text": [
      "                                                                \r"
     ]
    },
    {
     "name": "stdout",
     "output_type": "stream",
     "text": [
      "[CNN] epoch 20 | train loss 0.080 acc 97.8%  ||  test loss 0.140 acc 97.2% F1 0.971  AUROC 0.999\n"
     ]
    },
    {
     "name": "stderr",
     "output_type": "stream",
     "text": [
      "                                                                \r"
     ]
    },
    {
     "name": "stdout",
     "output_type": "stream",
     "text": [
      "[CNN] epoch 21 | train loss 0.068 acc 98.2%  ||  test loss 0.143 acc 97.5% F1 0.975  AUROC 0.999\n"
     ]
    },
    {
     "name": "stderr",
     "output_type": "stream",
     "text": [
      "                                                                \r"
     ]
    },
    {
     "name": "stdout",
     "output_type": "stream",
     "text": [
      "[CNN] epoch 22 | train loss 0.070 acc 98.1%  ||  test loss 0.150 acc 97.3% F1 0.973  AUROC 0.999\n"
     ]
    },
    {
     "name": "stderr",
     "output_type": "stream",
     "text": [
      "                                                                \r"
     ]
    },
    {
     "name": "stdout",
     "output_type": "stream",
     "text": [
      "[CNN] epoch 23 | train loss 0.080 acc 97.7%  ||  test loss 0.128 acc 97.2% F1 0.971  AUROC 0.999\n"
     ]
    },
    {
     "name": "stderr",
     "output_type": "stream",
     "text": [
      "                                                                \r"
     ]
    },
    {
     "name": "stdout",
     "output_type": "stream",
     "text": [
      "[CNN] epoch 24 | train loss 0.068 acc 98.2%  ||  test loss 0.143 acc 97.5% F1 0.975  AUROC 0.999\n"
     ]
    },
    {
     "name": "stderr",
     "output_type": "stream",
     "text": [
      "                                                                \r"
     ]
    },
    {
     "name": "stdout",
     "output_type": "stream",
     "text": [
      "[CNN] epoch 25 | train loss 0.068 acc 98.1%  ||  test loss 0.139 acc 97.4% F1 0.974  AUROC 0.999\n"
     ]
    },
    {
     "name": "stderr",
     "output_type": "stream",
     "text": [
      "                                                                \r"
     ]
    },
    {
     "name": "stdout",
     "output_type": "stream",
     "text": [
      "[CNN] epoch 26 | train loss 0.063 acc 98.2%  ||  test loss 0.140 acc 97.5% F1 0.975  AUROC 0.999\n"
     ]
    },
    {
     "name": "stderr",
     "output_type": "stream",
     "text": [
      "                                                                \r"
     ]
    },
    {
     "name": "stdout",
     "output_type": "stream",
     "text": [
      "[CNN] epoch 27 | train loss 0.072 acc 98.0%  ||  test loss 0.166 acc 97.1% F1 0.971  AUROC 0.998\n"
     ]
    },
    {
     "name": "stderr",
     "output_type": "stream",
     "text": [
      "                                                                \r"
     ]
    },
    {
     "name": "stdout",
     "output_type": "stream",
     "text": [
      "[CNN] epoch 28 | train loss 0.047 acc 98.7%  ||  test loss 0.132 acc 97.7% F1 0.977  AUROC 0.999\n"
     ]
    },
    {
     "name": "stderr",
     "output_type": "stream",
     "text": [
      "                                                                \r"
     ]
    },
    {
     "name": "stdout",
     "output_type": "stream",
     "text": [
      "[CNN] epoch 29 | train loss 0.054 acc 98.5%  ||  test loss 0.141 acc 97.6% F1 0.976  AUROC 0.999\n"
     ]
    },
    {
     "name": "stderr",
     "output_type": "stream",
     "text": [
      "                                                                \r"
     ]
    },
    {
     "name": "stdout",
     "output_type": "stream",
     "text": [
      "[CNN] epoch 30 | train loss 0.044 acc 98.8%  ||  test loss 0.145 acc 97.7% F1 0.977  AUROC 0.999\n"
     ]
    }
   ],
   "source": [
    "# Training loop for CNN\n",
    "cnn_snapshots = []\n",
    "global_step = 0\n",
    "cnn_metrics = []                \n",
    "model_name = \"CNN\"\n",
    "for epoch in range(num_epochs):\n",
    "    for images, labels in tqdm(train_loader, desc=f\"CNN Epoch {epoch+1}\", leave=False):\n",
    "        images, labels = images.to(device), labels.to(device)\n",
    "        # Forward + backward + optimize\n",
    "        outputs = cnn_model(images)\n",
    "        loss = criterion(outputs, labels)\n",
    "        optimizer_cnn.zero_grad()\n",
    "        loss.backward()\n",
    "        optimizer_cnn.step()\n",
    "        global_step += 1\n",
    "        # Snapshot embedding every n iterations\n",
    "        if global_step % snapshot_interval == 0:\n",
    "            embeds, lbls = compute_embeddings(cnn_model, test_loader)  # using test set for visualization\n",
    "            cnn_snapshots.append((embeds, lbls))\n",
    "    # compute epoch-end snapshot as well\n",
    "    embeds, lbls = compute_embeddings(cnn_model, test_loader)\n",
    "    cnn_snapshots.append((embeds, lbls))\n",
    "    tr_loss, tr_acc, tr_f1, tr_auc = evaluate(cnn_model, train_loader)\n",
    "    te_loss, te_acc, te_f1, te_auc = evaluate(cnn_model, test_loader)\n",
    "\n",
    "    print(f\"[{model_name}] epoch {epoch+1:02d} | \"\n",
    "          f\"train loss {tr_loss:.3f} acc {tr_acc*100:.1f}%  ||  \"\n",
    "          f\"test loss {te_loss:.3f} acc {te_acc*100:.1f}% \"\n",
    "          f\"F1 {te_f1:.3f}  AUROC {te_auc:.3f}\")\n",
    "\n",
    "    cnn_metrics.append((epoch+1, tr_loss, te_loss, tr_acc,  te_acc, te_f1,   te_auc))\n"
   ]
  },
  {
   "cell_type": "code",
   "execution_count": null,
   "id": "8cd0a246",
   "metadata": {},
   "outputs": [
    {
     "name": "stderr",
     "output_type": "stream",
     "text": [
      "                                                                  \r"
     ]
    },
    {
     "name": "stdout",
     "output_type": "stream",
     "text": [
      "[FCNN2D] epoch 01 | train loss 0.830 acc 77.1%  ||  test  loss 0.817 acc 77.1% F1 0.729  AUROC 0.981\n"
     ]
    },
    {
     "name": "stderr",
     "output_type": "stream",
     "text": [
      "                                                                  \r"
     ]
    },
    {
     "name": "stdout",
     "output_type": "stream",
     "text": [
      "[FCNN2D] epoch 02 | train loss 0.529 acc 89.3%  ||  test  loss 0.532 acc 89.4% F1 0.892  AUROC 0.988\n"
     ]
    },
    {
     "name": "stderr",
     "output_type": "stream",
     "text": [
      "                                                                  \r"
     ]
    },
    {
     "name": "stdout",
     "output_type": "stream",
     "text": [
      "[FCNN2D] epoch 03 | train loss 0.438 acc 90.7%  ||  test  loss 0.466 acc 90.2% F1 0.901  AUROC 0.989\n"
     ]
    },
    {
     "name": "stderr",
     "output_type": "stream",
     "text": [
      "                                                                  \r"
     ]
    },
    {
     "name": "stdout",
     "output_type": "stream",
     "text": [
      "[FCNN2D] epoch 04 | train loss 0.354 acc 92.6%  ||  test  loss 0.414 acc 91.8% F1 0.917  AUROC 0.990\n"
     ]
    },
    {
     "name": "stderr",
     "output_type": "stream",
     "text": [
      "                                                                  \r"
     ]
    },
    {
     "name": "stdout",
     "output_type": "stream",
     "text": [
      "[FCNN2D] epoch 05 | train loss 0.303 acc 93.3%  ||  test  loss 0.353 acc 92.8% F1 0.927  AUROC 0.992\n"
     ]
    },
    {
     "name": "stderr",
     "output_type": "stream",
     "text": [
      "                                                                  \r"
     ]
    },
    {
     "name": "stdout",
     "output_type": "stream",
     "text": [
      "[FCNN2D] epoch 06 | train loss 0.259 acc 94.2%  ||  test  loss 0.333 acc 93.1% F1 0.930  AUROC 0.993\n"
     ]
    },
    {
     "name": "stderr",
     "output_type": "stream",
     "text": [
      "                                                                 \r"
     ]
    },
    {
     "name": "stdout",
     "output_type": "stream",
     "text": [
      "[FCNN2D] epoch 07 | train loss 0.243 acc 94.4%  ||  test  loss 0.314 acc 93.6% F1 0.935  AUROC 0.993\n"
     ]
    },
    {
     "name": "stderr",
     "output_type": "stream",
     "text": [
      "                                                                  \r"
     ]
    },
    {
     "name": "stdout",
     "output_type": "stream",
     "text": [
      "[FCNN2D] epoch 08 | train loss 0.239 acc 94.5%  ||  test  loss 0.330 acc 93.5% F1 0.935  AUROC 0.993\n"
     ]
    },
    {
     "name": "stderr",
     "output_type": "stream",
     "text": [
      "                                                                 \r"
     ]
    },
    {
     "name": "stdout",
     "output_type": "stream",
     "text": [
      "[FCNN2D] epoch 09 | train loss 0.220 acc 94.7%  ||  test  loss 0.317 acc 93.6% F1 0.935  AUROC 0.993\n"
     ]
    },
    {
     "name": "stderr",
     "output_type": "stream",
     "text": [
      "                                                                   \r"
     ]
    },
    {
     "name": "stdout",
     "output_type": "stream",
     "text": [
      "[FCNN2D] epoch 10 | train loss 0.219 acc 94.7%  ||  test  loss 0.320 acc 93.5% F1 0.934  AUROC 0.993\n"
     ]
    },
    {
     "name": "stderr",
     "output_type": "stream",
     "text": [
      "                                                                   \r"
     ]
    },
    {
     "name": "stdout",
     "output_type": "stream",
     "text": [
      "[FCNN2D] epoch 11 | train loss 0.205 acc 94.9%  ||  test  loss 0.310 acc 93.5% F1 0.935  AUROC 0.993\n"
     ]
    },
    {
     "name": "stderr",
     "output_type": "stream",
     "text": [
      "                                                                   \r"
     ]
    },
    {
     "name": "stdout",
     "output_type": "stream",
     "text": [
      "[FCNN2D] epoch 12 | train loss 0.208 acc 94.8%  ||  test  loss 0.324 acc 93.5% F1 0.935  AUROC 0.993\n"
     ]
    },
    {
     "name": "stderr",
     "output_type": "stream",
     "text": [
      "                                                                   \r"
     ]
    },
    {
     "name": "stdout",
     "output_type": "stream",
     "text": [
      "[FCNN2D] epoch 13 | train loss 0.223 acc 94.5%  ||  test  loss 0.337 acc 93.3% F1 0.933  AUROC 0.993\n"
     ]
    },
    {
     "name": "stderr",
     "output_type": "stream",
     "text": [
      "                                                                   \r"
     ]
    },
    {
     "name": "stdout",
     "output_type": "stream",
     "text": [
      "[FCNN2D] epoch 14 | train loss 0.213 acc 94.5%  ||  test  loss 0.328 acc 92.9% F1 0.929  AUROC 0.993\n"
     ]
    },
    {
     "name": "stderr",
     "output_type": "stream",
     "text": [
      "                                                                   \r"
     ]
    },
    {
     "name": "stdout",
     "output_type": "stream",
     "text": [
      "[FCNN2D] epoch 15 | train loss 0.172 acc 95.7%  ||  test  loss 0.319 acc 93.8% F1 0.938  AUROC 0.994\n"
     ]
    },
    {
     "name": "stderr",
     "output_type": "stream",
     "text": [
      "                                                                   \r"
     ]
    },
    {
     "name": "stdout",
     "output_type": "stream",
     "text": [
      "[FCNN2D] epoch 16 | train loss 0.165 acc 95.8%  ||  test  loss 0.304 acc 94.0% F1 0.940  AUROC 0.994\n"
     ]
    },
    {
     "name": "stderr",
     "output_type": "stream",
     "text": [
      "                                                                   \r"
     ]
    },
    {
     "name": "stdout",
     "output_type": "stream",
     "text": [
      "[FCNN2D] epoch 17 | train loss 0.175 acc 95.4%  ||  test  loss 0.308 acc 93.7% F1 0.936  AUROC 0.994\n"
     ]
    },
    {
     "name": "stderr",
     "output_type": "stream",
     "text": [
      "                                                                   \r"
     ]
    },
    {
     "name": "stdout",
     "output_type": "stream",
     "text": [
      "[FCNN2D] epoch 18 | train loss 0.163 acc 95.7%  ||  test  loss 0.296 acc 93.9% F1 0.938  AUROC 0.994\n"
     ]
    },
    {
     "name": "stderr",
     "output_type": "stream",
     "text": [
      "                                                                   \r"
     ]
    },
    {
     "name": "stdout",
     "output_type": "stream",
     "text": [
      "[FCNN2D] epoch 19 | train loss 0.154 acc 95.9%  ||  test  loss 0.323 acc 93.8% F1 0.938  AUROC 0.994\n"
     ]
    },
    {
     "name": "stderr",
     "output_type": "stream",
     "text": [
      "                                                                   \r"
     ]
    },
    {
     "name": "stdout",
     "output_type": "stream",
     "text": [
      "[FCNN2D] epoch 20 | train loss 0.167 acc 95.6%  ||  test  loss 0.343 acc 93.5% F1 0.935  AUROC 0.993\n"
     ]
    },
    {
     "name": "stderr",
     "output_type": "stream",
     "text": [
      "                                                                   \r"
     ]
    },
    {
     "name": "stdout",
     "output_type": "stream",
     "text": [
      "[FCNN2D] epoch 21 | train loss 0.144 acc 96.2%  ||  test  loss 0.326 acc 93.9% F1 0.939  AUROC 0.993\n"
     ]
    },
    {
     "name": "stderr",
     "output_type": "stream",
     "text": [
      "                                                                   \r"
     ]
    },
    {
     "name": "stdout",
     "output_type": "stream",
     "text": [
      "[FCNN2D] epoch 22 | train loss 0.168 acc 95.3%  ||  test  loss 0.342 acc 93.2% F1 0.932  AUROC 0.993\n"
     ]
    },
    {
     "name": "stderr",
     "output_type": "stream",
     "text": [
      "                                                                   \r"
     ]
    },
    {
     "name": "stdout",
     "output_type": "stream",
     "text": [
      "[FCNN2D] epoch 23 | train loss 0.137 acc 96.4%  ||  test  loss 0.305 acc 94.3% F1 0.942  AUROC 0.994\n"
     ]
    },
    {
     "name": "stderr",
     "output_type": "stream",
     "text": [
      "                                                                   \r"
     ]
    },
    {
     "name": "stdout",
     "output_type": "stream",
     "text": [
      "[FCNN2D] epoch 24 | train loss 0.141 acc 96.3%  ||  test  loss 0.349 acc 93.9% F1 0.938  AUROC 0.993\n"
     ]
    },
    {
     "name": "stderr",
     "output_type": "stream",
     "text": [
      "                                                                   \r"
     ]
    },
    {
     "name": "stdout",
     "output_type": "stream",
     "text": [
      "[FCNN2D] epoch 25 | train loss 0.130 acc 96.6%  ||  test  loss 0.325 acc 94.3% F1 0.943  AUROC 0.994\n"
     ]
    },
    {
     "name": "stderr",
     "output_type": "stream",
     "text": [
      "                                                                   \r"
     ]
    },
    {
     "name": "stdout",
     "output_type": "stream",
     "text": [
      "[FCNN2D] epoch 26 | train loss 0.141 acc 96.3%  ||  test  loss 0.360 acc 94.0% F1 0.939  AUROC 0.993\n"
     ]
    },
    {
     "name": "stderr",
     "output_type": "stream",
     "text": [
      "                                                                   \r"
     ]
    },
    {
     "name": "stdout",
     "output_type": "stream",
     "text": [
      "[FCNN2D] epoch 27 | train loss 0.137 acc 96.4%  ||  test  loss 0.343 acc 93.8% F1 0.937  AUROC 0.993\n"
     ]
    },
    {
     "name": "stderr",
     "output_type": "stream",
     "text": [
      "                                                                   \r"
     ]
    },
    {
     "name": "stdout",
     "output_type": "stream",
     "text": [
      "[FCNN2D] epoch 28 | train loss 0.135 acc 96.2%  ||  test  loss 0.331 acc 93.9% F1 0.938  AUROC 0.994\n"
     ]
    },
    {
     "name": "stderr",
     "output_type": "stream",
     "text": [
      "                                                                   \r"
     ]
    },
    {
     "name": "stdout",
     "output_type": "stream",
     "text": [
      "[FCNN2D] epoch 29 | train loss 0.122 acc 96.7%  ||  test  loss 0.320 acc 94.2% F1 0.941  AUROC 0.994\n"
     ]
    },
    {
     "name": "stderr",
     "output_type": "stream",
     "text": [
      "                                                                   \r"
     ]
    },
    {
     "name": "stdout",
     "output_type": "stream",
     "text": [
      "[FCNN2D] epoch 30 | train loss 0.121 acc 96.7%  ||  test  loss 0.325 acc 94.0% F1 0.939  AUROC 0.994\n"
     ]
    }
   ],
   "source": [
    "# Training loop for FCNN\n",
    "fcnn_snapshots = []\n",
    "fcnn_metrics   = []\n",
    "model_name     = \"FCNN2D\"\n",
    "global_step    = 0\n",
    "\n",
    "for epoch in range(num_epochs):\n",
    "    for images, labels in tqdm(train_loader,desc=f\"{model_name} Epoch {epoch+1}\",leave=False):\n",
    "        images, labels = images.to(device), labels.to(device)\n",
    "\n",
    "        # forward / backward / update\n",
    "        outputs = fcnn_model(images)\n",
    "        loss = criterion(outputs, labels)\n",
    "        optimizer_fc.zero_grad()\n",
    "        loss.backward()\n",
    "        optimizer_fc.step()\n",
    "        global_step += 1\n",
    "\n",
    "        # snapshot every N iterations\n",
    "        if global_step % snapshot_interval == 0:\n",
    "            embeds, lbls = compute_embeddings(fcnn_model, test_loader)\n",
    "            fcnn_snapshots.append((embeds, lbls))\n",
    "\n",
    "    # epoch-end snapshot (optional but nice)\n",
    "    embeds, lbls = compute_embeddings(fcnn_model, test_loader)\n",
    "    fcnn_snapshots.append((embeds, lbls))\n",
    "\n",
    "    # evaluate & log\n",
    "    tr_loss, tr_acc, tr_f1, tr_auc = evaluate(fcnn_model, train_loader)\n",
    "    te_loss, te_acc, te_f1, te_auc = evaluate(fcnn_model, test_loader)\n",
    "\n",
    "    print(f\"[{model_name}] epoch {epoch+1:02d} | \"\n",
    "          f\"train loss {tr_loss:.3f} acc {tr_acc*100:.1f}%  ||  \"\n",
    "          f\"test  loss {te_loss:.3f} acc {te_acc*100:.1f}% \"\n",
    "          f\"F1 {te_f1:.3f}  AUROC {te_auc:.3f}\")\n",
    "\n",
    "    fcnn_metrics.append((epoch+1, tr_loss, te_loss,\n",
    "                         tr_acc,  te_acc,\n",
    "                         te_f1,   te_auc))"
   ]
  },
  {
   "cell_type": "code",
   "execution_count": 14,
   "id": "6005afd9",
   "metadata": {},
   "outputs": [
    {
     "name": "stderr",
     "output_type": "stream",
     "text": [
      "C:\\Users\\mreza\\AppData\\Local\\Temp\\ipykernel_43828\\239853502.py:26: MatplotlibDeprecationWarning: The tostring_rgb function was deprecated in Matplotlib 3.8 and will be removed in 3.10. Use buffer_rgba instead.\n",
      "  frame = np.frombuffer(canvas.tostring_rgb(), dtype='uint8')\n",
      "IMAGEIO FFMPEG_WRITER WARNING: input image is not divisible by macro_block_size=16, resizing from (1600, 900) to (1600, 912) to ensure video compatibility with most codecs and players. To prevent resizing, make your input image divisible by the macro_block_size or set the macro_block_size to 1 (risking incompatibility).\n"
     ]
    }
   ],
   "source": [
    "import matplotlib.pyplot as plt\n",
    "import numpy as np\n",
    "import imageio\n",
    "\n",
    "def create_embedding_video(snapshot_data, output_filename):\n",
    "    \"\"\"snapshot_data is a list of (embeds, labels) tuples.\"\"\"\n",
    "    images = []\n",
    "    # Define colors for 10 classes\n",
    "    cmap = plt.get_cmap('tab10')  # tab10 has 10 distinct colors\n",
    "    for i, (embeds, labels) in enumerate(snapshot_data):\n",
    "        plt.figure(figsize=(16,9))\n",
    "        plt.xlim(-200, 200)\n",
    "        plt.ylim(-200, 200)\n",
    "        plt.gca().set_facecolor('black')\n",
    "        plt.title(f\"Iteration {i * snapshot_interval}\")  # simple title to indicate training step\n",
    "        # Plot each class in its color\n",
    "        for digit in range(10):\n",
    "            pts = embeds[labels == digit]\n",
    "            if len(pts) > 0:\n",
    "                plt.scatter(pts[:,0], pts[:,1], s=5, color=cmap(digit), label=str(digit))\n",
    "        plt.legend(loc='upper right', fontsize='x-small')\n",
    "        # Render plot to array and append\n",
    "        plt.tight_layout()\n",
    "        canvas = plt.gca().figure.canvas\n",
    "        canvas.draw()\n",
    "        frame = np.frombuffer(canvas.tostring_rgb(), dtype='uint8')\n",
    "        frame = frame.reshape(canvas.get_width_height()[::-1] + (3,))\n",
    "        images.append(frame)\n",
    "        plt.close()\n",
    "    # Save frames as video\n",
    "    imageio.mimsave(output_filename, images, fps=10, quality=8)\n",
    "# Create videos for CNN \n",
    "create_embedding_video(cnn_snapshots, \"cnn_embedding_evolution.mp4\")"
   ]
  },
  {
   "cell_type": "code",
   "execution_count": null,
   "id": "02a290bc",
   "metadata": {},
   "outputs": [],
   "source": [
    "import matplotlib.pyplot as plt\n",
    "import numpy as np\n",
    "import imageio\n",
    "def create_embedding_video(snapshot_data, output_filename):\n",
    "    \"\"\"snapshot_data is a list of (embeds, labels) tuples.\"\"\"\n",
    "    images = []\n",
    "    # Define colors for 10 classes\n",
    "    cmap = plt.get_cmap('tab10')  # tab10 has 10 distinct colors\n",
    "    for i, (embeds, labels) in enumerate(snapshot_data):\n",
    "        plt.figure(figsize=(16,9))\n",
    "        plt.xlim(-50, 50)\n",
    "        plt.ylim(-50, 50)\n",
    "        plt.gca().set_facecolor('black')\n",
    "        plt.title(f\"Iteration {i * snapshot_interval}\")  # simple title to indicate training step\n",
    "        # Plot each class in its color\n",
    "        for digit in range(10):\n",
    "            pts = embeds[labels == digit]\n",
    "            if len(pts) > 0:\n",
    "                plt.scatter(pts[:,0], pts[:,1], s=5, color=cmap(digit), label=str(digit))\n",
    "        plt.legend(loc='upper right', fontsize='x-small')\n",
    "        # Render plot to array and append\n",
    "        plt.tight_layout()\n",
    "        canvas = plt.gca().figure.canvas\n",
    "        canvas.draw()\n",
    "        frame = np.frombuffer(canvas.tostring_rgb(), dtype='uint8')\n",
    "        frame = frame.reshape(canvas.get_width_height()[::-1] + (3,))\n",
    "        images.append(frame)\n",
    "        plt.close()\n",
    "    # Save frames as video\n",
    "    imageio.mimsave(output_filename, images, fps=10, quality=8)"
   ]
  },
  {
   "cell_type": "code",
   "execution_count": 41,
   "id": "a8f51826",
   "metadata": {},
   "outputs": [
    {
     "name": "stderr",
     "output_type": "stream",
     "text": [
      "C:\\Users\\mreza\\AppData\\Local\\Temp\\ipykernel_43828\\3864779688.py:25: MatplotlibDeprecationWarning: The tostring_rgb function was deprecated in Matplotlib 3.8 and will be removed in 3.10. Use buffer_rgba instead.\n",
      "  frame = np.frombuffer(canvas.tostring_rgb(), dtype='uint8')\n",
      "IMAGEIO FFMPEG_WRITER WARNING: input image is not divisible by macro_block_size=16, resizing from (1600, 900) to (1600, 912) to ensure video compatibility with most codecs and players. To prevent resizing, make your input image divisible by the macro_block_size or set the macro_block_size to 1 (risking incompatibility).\n"
     ]
    }
   ],
   "source": [
    "create_embedding_video(fcnn_snapshots , \"FCNN_embedding_evolution1.mp4\")"
   ]
  },
  {
   "cell_type": "code",
   "execution_count": null,
   "id": "c65804f6",
   "metadata": {},
   "outputs": [
    {
     "name": "stdout",
     "output_type": "stream",
     "text": [
      "CNN: (30, 7) rows\n",
      "    epoch  train_loss  test_loss  train_acc  test_acc   test_F1  test_AUROC\n",
      "25     26    0.063267   0.140310   0.982217    0.9752  0.975038    0.998679\n",
      "26     27    0.072480   0.166481   0.980283    0.9714  0.971310    0.998467\n",
      "27     28    0.046527   0.132425   0.986600    0.9771  0.977060    0.998821\n",
      "28     29    0.053943   0.140672   0.984817    0.9758  0.975781    0.998789\n",
      "29     30    0.044175   0.145351   0.987983    0.9773  0.977121    0.998788\n",
      "Transformer: (30, 7) rows\n",
      "    epoch  train_loss  test_loss  train_acc  test_acc   test_F1  test_AUROC\n",
      "25     26    0.191636   0.292215   0.954000    0.9433  0.943458    0.994094\n",
      "26     27    0.207650   0.286001   0.947250    0.9411  0.941530    0.994038\n",
      "27     28    0.164413   0.264923   0.958867    0.9456  0.945535    0.994730\n",
      "28     29    0.157626   0.252403   0.961367    0.9514  0.951172    0.995220\n",
      "29     30    0.171211   0.268318   0.957267    0.9453  0.945462    0.994534\n",
      "FCNN: (30, 7) rows\n",
      "    epoch  train_loss  test_loss  train_acc  test_acc   test_F1  test_AUROC\n",
      "25     26    0.141187   0.359732   0.963250    0.9396  0.938818    0.993169\n",
      "26     27    0.137074   0.342777   0.963817    0.9378  0.937144    0.993469\n",
      "27     28    0.135186   0.330663   0.962083    0.9386  0.937875    0.993656\n",
      "28     29    0.121599   0.319830   0.967400    0.9416  0.940890    0.994038\n",
      "29     30    0.120557   0.325413   0.966967    0.9400  0.939444    0.994068\n"
     ]
    }
   ],
   "source": [
    "import pandas as pd\n",
    "df_cnn  = pd.DataFrame(cnn_metrics,\n",
    "                       columns=[\"epoch\",\"train_loss\",\"test_loss\",\n",
    "                                \"train_acc\",\"test_acc\",\n",
    "                                \"test_F1\",\"test_AUROC\"])\n",
    "# df_trans = pd.DataFrame(trans_metrics, columns=df_cnn.columns)\n",
    "\n",
    "# quick look\n",
    "print(f\"CNN: {df_cnn.shape} rows\")\n",
    "print(df_cnn.tail())\n",
    "# print(f\"Transformer: {df_trans.shape} rows\")\n",
    "# print(df_trans.tail())\n",
    "df_fcnn = pd.DataFrame(fcnn_metrics, columns=df_cnn.columns)\n",
    "# quick look\n",
    "print(f\"FCNN: {df_fcnn.shape} rows\")\n",
    "print(df_fcnn.tail())"
   ]
  },
  {
   "cell_type": "code",
   "execution_count": null,
   "id": "e86bb99b",
   "metadata": {},
   "outputs": [
    {
     "name": "stdout",
     "output_type": "stream",
     "text": [
      "\n",
      "=== FINAL EPOCH METRICS ===\n"
     ]
    },
    {
     "data": {
      "application/vnd.microsoft.datawrangler.viewer.v0+json": {
       "columns": [
        {
         "name": "index",
         "rawType": "int64",
         "type": "integer"
        },
        {
         "name": "model",
         "rawType": "object",
         "type": "string"
        },
        {
         "name": "train_loss",
         "rawType": "float64",
         "type": "float"
        },
        {
         "name": "test_loss",
         "rawType": "float64",
         "type": "float"
        },
        {
         "name": "train_acc",
         "rawType": "float64",
         "type": "float"
        },
        {
         "name": "test_acc",
         "rawType": "float64",
         "type": "float"
        },
        {
         "name": "test_F1",
         "rawType": "float64",
         "type": "float"
        },
        {
         "name": "test_AUROC",
         "rawType": "float64",
         "type": "float"
        }
       ],
       "conversionMethod": "pd.DataFrame",
       "ref": "32384265-fccd-4f1a-8ebe-c29c594983c3",
       "rows": [
        [
         "0",
         "CNN",
         "0.044",
         "0.145",
         "0.988",
         "0.977",
         "0.977",
         "0.999"
        ],
        [
         "1",
         "Transformer",
         "0.171",
         "0.268",
         "0.957",
         "0.945",
         "0.945",
         "0.995"
        ]
       ],
       "shape": {
        "columns": 7,
        "rows": 2
       }
      },
      "text/html": [
       "<div>\n",
       "<style scoped>\n",
       "    .dataframe tbody tr th:only-of-type {\n",
       "        vertical-align: middle;\n",
       "    }\n",
       "\n",
       "    .dataframe tbody tr th {\n",
       "        vertical-align: top;\n",
       "    }\n",
       "\n",
       "    .dataframe thead th {\n",
       "        text-align: right;\n",
       "    }\n",
       "</style>\n",
       "<table border=\"1\" class=\"dataframe\">\n",
       "  <thead>\n",
       "    <tr style=\"text-align: right;\">\n",
       "      <th></th>\n",
       "      <th>model</th>\n",
       "      <th>train_loss</th>\n",
       "      <th>test_loss</th>\n",
       "      <th>train_acc</th>\n",
       "      <th>test_acc</th>\n",
       "      <th>test_F1</th>\n",
       "      <th>test_AUROC</th>\n",
       "    </tr>\n",
       "  </thead>\n",
       "  <tbody>\n",
       "    <tr>\n",
       "      <th>0</th>\n",
       "      <td>CNN</td>\n",
       "      <td>0.044</td>\n",
       "      <td>0.145</td>\n",
       "      <td>0.988</td>\n",
       "      <td>0.977</td>\n",
       "      <td>0.977</td>\n",
       "      <td>0.999</td>\n",
       "    </tr>\n",
       "    <tr>\n",
       "      <th>1</th>\n",
       "      <td>Transformer</td>\n",
       "      <td>0.171</td>\n",
       "      <td>0.268</td>\n",
       "      <td>0.957</td>\n",
       "      <td>0.945</td>\n",
       "      <td>0.945</td>\n",
       "      <td>0.995</td>\n",
       "    </tr>\n",
       "  </tbody>\n",
       "</table>\n",
       "</div>"
      ],
      "text/plain": [
       "         model  train_loss  test_loss  train_acc  test_acc  test_F1  \\\n",
       "0          CNN       0.044      0.145      0.988     0.977    0.977   \n",
       "1  Transformer       0.171      0.268      0.957     0.945    0.945   \n",
       "\n",
       "   test_AUROC  \n",
       "0       0.999  \n",
       "1       0.995  "
      ]
     },
     "metadata": {},
     "output_type": "display_data"
    },
    {
     "name": "stderr",
     "output_type": "stream",
     "text": [
      "C:\\Users\\mreza\\AppData\\Local\\Temp\\ipykernel_43828\\1593405161.py:64: UserWarning: This figure includes Axes that are not compatible with tight_layout, so results might be incorrect.\n",
      "  plt.tight_layout()\n"
     ]
    }
   ],
   "source": [
    "import pandas as pd, numpy as np, matplotlib.pyplot as plt, seaborn as sns\n",
    "from sklearn.metrics import roc_curve, auc, confusion_matrix\n",
    "from matplotlib import gridspec\n",
    "\n",
    "sns.set(style=\"white\", font_scale=1.0) # clean aesthetics\n",
    "cmap10 = plt.get_cmap('tab10', 10)\n",
    "\n",
    "# pull last row (epoch, train_loss, test_loss, train_acc, test_acc, F1, AUROC)\n",
    "cnn_last   = cnn_metrics[-1]\n",
    "\n",
    "summary_df = pd.DataFrame([\n",
    "    [\"CNN\"        , *cnn_last[1:]],      # skip epoch col\n",
    "    [\"Transformer\", *trans_last[1:]]\n",
    "], columns=[\"model\", \"train_loss\", \"test_loss\",\n",
    "            \"train_acc\", \"test_acc\",\n",
    "            \"test_F1\", \"test_AUROC\"]).round(3)\n",
    "\n",
    "print(\"\\n=== FINAL EPOCH METRICS ===\")\n",
    "display(summary_df)"
   ]
  },
  {
   "cell_type": "code",
   "execution_count": null,
   "id": "1be956d5",
   "metadata": {},
   "outputs": [
    {
     "name": "stdout",
     "output_type": "stream",
     "text": [
      "Saved:\n",
      "  summary_metrics.csv\n",
      "  cm_CNN.png  cm_FCNN1.png\n",
      "  final_embeddings_compare1.png\n"
     ]
    }
   ],
   "source": [
    "#  The final 2D snapshots \n",
    "# assume last element of snapshots lists\n",
    "emb_cnn, lbl_cnn = cnn_snapshots[-1]\n",
    "emb_fcnn, lbl_fcnn = fcnn_snapshots[-1]\n",
    "\n",
    "fig, axes = plt.subplots(1,2, figsize=(8,4), dpi=200)\n",
    "for ax, (emb,lbl,title) in zip(axes,\n",
    "        [(emb_cnn,lbl_cnn,\"CNN final\"), (emb_fcnn,lbl_fcnn,\"FCNN final\")]):\n",
    "    ax.scatter(emb[:,0], emb[:,1], c=lbl, cmap='tab10', s=4, alpha=0.7)\n",
    "    ax.set_xlim(-50,50); ax.set_ylim(-50,50)\n",
    "    ax.set_facecolor('black'); ax.set_title(title)\n",
    "    ax.set_xticks([]); ax.set_yticks([])\n",
    "fig.suptitle(\"Final 2-D embeddings (test set)\")\n",
    "plt.tight_layout()\n",
    "fig.savefig(\"final_embeddings_compare1.png\", dpi=300, facecolor='black')\n",
    "plt.close(fig)\n",
    "\n",
    "print(\"Saved:\")\n",
    "print(\"  summary_metrics.csv\")\n",
    "print(\"  cm_CNN.png  cm_FCNN1.png\")\n",
    "print(\"  final_embeddings_compare1.png\")\n"
   ]
  },
  {
   "cell_type": "code",
   "execution_count": null,
   "id": "17ee3089",
   "metadata": {},
   "outputs": [],
   "source": [
    "def get_out_weights_bias(model):\n",
    "    \"\"\"\n",
    "    Return (W, b) from the linear layer that maps 2D -> 10 logits.\n",
    "    Tries common attribute names, otherwise grabs the last nn.Linear.\n",
    "    \"\"\"\n",
    "    for cand in [\"fc_out\", \"fc3\", \"output\", \"classifier\"]:\n",
    "        layer = getattr(model, cand, None) \n",
    "        if isinstance(layer, nn.Linear) and layer.out_features == 10:\n",
    "            return layer.weight.detach().cpu().numpy(), layer.bias.detach().cpu().numpy()\n",
    "\n",
    "    # fallback: scan modules in reverse for a suitable Linear\n",
    "    for m in reversed(list(model.modules())):\n",
    "        if isinstance(m, nn.Linear) and m.out_features == 10:\n",
    "            return m.weight.detach().cpu().numpy(), m.bias.detach().cpu().numpy()\n",
    "    raise ValueError(\"Couldn't locate 2→10 output linear layer\")\n",
    "\n",
    "def plot_embedding_with_regions(model, embeds, labels,\n",
    "                                title=\"latent space\", save=\"emb_regions.png\",\n",
    "                                xy_lim=30, res=200):\n",
    "    W, b = get_out_weights_bias(model) \n",
    "\n",
    "    lin = np.linspace(-xy_lim, xy_lim, res) \n",
    "    xx, yy = np.meshgrid(lin, lin)\n",
    "    grid   = np.stack([xx.ravel(), yy.ravel()], axis=1)\n",
    "    logits = grid @ W.T + b\n",
    "    pred   = logits.argmax(1).reshape(res, res)\n",
    "\n",
    "    cmap_bg = plt.cm.get_cmap(\"tab10\", 10)\n",
    "    fig, ax = plt.subplots(figsize=(5,5), dpi=200)\n",
    "    ax.imshow(pred, extent=[-xy_lim, xy_lim, -xy_lim, xy_lim],\n",
    "              origin='lower', cmap=cmap_bg, alpha=0.15)\n",
    "    sc = ax.scatter(embeds[:,0], embeds[:,1],\n",
    "                    c=labels, cmap='tab10', s=6, edgecolors='k', linewidths=0.15)\n",
    "    ax.set_xlim(-xy_lim, xy_lim); ax.set_ylim(-xy_lim, xy_lim)\n",
    "    ax.set_facecolor('black'); ax.set_title(title)\n",
    "    ax.set_xticks([]); ax.set_yticks([])\n",
    "    fig.tight_layout(); fig.savefig(save, dpi=300, facecolor='black')\n",
    "    plt.close(fig); print(\"saved\", save)\n"
   ]
  },
  {
   "cell_type": "code",
   "execution_count": 44,
   "id": "94885dd4",
   "metadata": {},
   "outputs": [
    {
     "name": "stderr",
     "output_type": "stream",
     "text": [
      "C:\\Users\\mreza\\AppData\\Local\\Temp\\ipykernel_43828\\486645988.py:29: MatplotlibDeprecationWarning: The get_cmap function was deprecated in Matplotlib 3.7 and will be removed in 3.11. Use ``matplotlib.colormaps[name]`` or ``matplotlib.colormaps.get_cmap()`` or ``pyplot.get_cmap()`` instead.\n",
      "  cmap_bg = plt.cm.get_cmap(\"tab10\", 10)\n"
     ]
    },
    {
     "name": "stdout",
     "output_type": "stream",
     "text": [
      "saved fcnn_regions_zoomed.png\n"
     ]
    }
   ],
   "source": [
    "emb_fcnn, lbl_fcnn = fcnn_snapshots[-1]\n",
    "plot_embedding_with_regions(fcnn_model, emb_fcnn, lbl_fcnn,\n",
    "                            title=\"FCNN – decision regions\",\n",
    "                            save=\"fcnn_regions_zoomed.png\")"
   ]
  },
  {
   "cell_type": "code",
   "execution_count": 23,
   "id": "f5bd1da2",
   "metadata": {},
   "outputs": [
    {
     "name": "stderr",
     "output_type": "stream",
     "text": [
      "C:\\Users\\mreza\\AppData\\Local\\Temp\\ipykernel_43828\\1889643890.py:29: MatplotlibDeprecationWarning: The get_cmap function was deprecated in Matplotlib 3.7 and will be removed in 3.11. Use ``matplotlib.colormaps[name]`` or ``matplotlib.colormaps.get_cmap()`` or ``pyplot.get_cmap()`` instead.\n",
      "  cmap_bg = plt.cm.get_cmap(\"tab10\", 10)\n"
     ]
    },
    {
     "name": "stdout",
     "output_type": "stream",
     "text": [
      "saved cnn_regions.png\n"
     ]
    }
   ],
   "source": [
    "# final snapshot data:\n",
    "emb_cnn , lbl_cnn  = cnn_snapshots[-1]\n",
    "\n",
    "plot_embedding_with_regions(cnn_model , emb_cnn , lbl_cnn ,\n",
    "                            title=\"CNN – decision regions\",\n",
    "                            save=\"cnn_regions.png\")"
   ]
  }
 ],
 "metadata": {
  "kernelspec": {
   "display_name": "Python 3",
   "language": "python",
   "name": "python3"
  },
  "language_info": {
   "codemirror_mode": {
    "name": "ipython",
    "version": 3
   },
   "file_extension": ".py",
   "mimetype": "text/x-python",
   "name": "python",
   "nbconvert_exporter": "python",
   "pygments_lexer": "ipython3",
   "version": "3.12.3"
  }
 },
 "nbformat": 4,
 "nbformat_minor": 5
}
